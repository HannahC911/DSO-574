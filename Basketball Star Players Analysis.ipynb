{
  "cells": [
    {
      "cell_type": "code",
      "source": [
        "import os\n",
        "\n",
        "import pandas as pd\n",
        "import numpy as np\n",
        "import seaborn as sns\n",
        "import matplotlib.pyplot as plt\n",
        "\n",
        "from google.colab import drive\n",
        "\n",
        "drive.mount('/content/drive')"
      ],
      "metadata": {
        "colab": {
          "base_uri": "https://localhost:8080/"
        },
        "id": "qA05wQpQfxKz",
        "outputId": "10196f41-0b42-46ee-a7ad-74e3f4076e90"
      },
      "id": "qA05wQpQfxKz",
      "execution_count": 1,
      "outputs": [
        {
          "output_type": "stream",
          "name": "stdout",
          "text": [
            "Mounted at /content/drive\n"
          ]
        }
      ]
    },
    {
      "cell_type": "markdown",
      "source": [
        "## 1. Data Manipulaion\n"
      ],
      "metadata": {
        "id": "-sa54lJRf_n1"
      },
      "id": "-sa54lJRf_n1"
    },
    {
      "cell_type": "code",
      "execution_count": 3,
      "id": "8325d2e8-6cd5-4d7b-a901-1ecc05e2c355",
      "metadata": {
        "tags": [],
        "colab": {
          "base_uri": "https://localhost:8080/"
        },
        "id": "8325d2e8-6cd5-4d7b-a901-1ecc05e2c355",
        "outputId": "68c75148-b78d-40e3-e132-82a679dfd2fa"
      },
      "outputs": [
        {
          "output_type": "stream",
          "name": "stderr",
          "text": [
            "<ipython-input-3-0484e1bbe6e8>:1: DtypeWarning: Columns (40,41) have mixed types. Specify dtype option on import or set low_memory=False.\n",
            "  df = pd.read_csv('/content/drive/MyDrive/DSO574/Assignment Data/NBA/2019-2020 NBA Play-By-Play Data.csv')\n"
          ]
        }
      ],
      "source": [
        "df = pd.read_csv('/content/drive/MyDrive/DSO574/Assignment Data/NBA/2019-2020 NBA Play-By-Play Data.csv')"
      ]
    },
    {
      "cell_type": "code",
      "execution_count": 4,
      "id": "293d8b0c-005e-46e4-9a6d-6ffdd8a1a5a7",
      "metadata": {
        "tags": [],
        "id": "293d8b0c-005e-46e4-9a6d-6ffdd8a1a5a7"
      },
      "outputs": [],
      "source": [
        "#date\n",
        "df['date'] = pd.to_datetime(df['date'], errors='coerce')\n",
        "df = df[df['date'] >= '2019-07-06'] #anthony officially join on 2019-07-06\n",
        "df = df[df['team'] == 'LAL']"
      ]
    },
    {
      "cell_type": "markdown",
      "source": [
        "## Part A"
      ],
      "metadata": {
        "id": "kDloKIK_gNM0"
      },
      "id": "kDloKIK_gNM0"
    },
    {
      "cell_type": "markdown",
      "source": [
        "In Part A, we want to see whether Anthony or LeBron plays better themselves or together."
      ],
      "metadata": {
        "id": "oLoTdXXLgR18"
      },
      "id": "oLoTdXXLgR18"
    },
    {
      "cell_type": "code",
      "execution_count": 5,
      "id": "9b817c8f-127e-4a6e-a2cc-b9d9e2b13443",
      "metadata": {
        "tags": [],
        "id": "9b817c8f-127e-4a6e-a2cc-b9d9e2b13443"
      },
      "outputs": [],
      "source": [
        "# no_lebron_game_ids\n",
        "lebron_data = df[df.apply(lambda x: 'LeBron James' in x.values[4:9] or 'LeBron James' in x.values[9:14], axis=1)]\n",
        "lebron_game_ids = lebron_data['game_id'].unique()\n",
        "no_lebron_game_ids = df[~df['game_id'].isin(lebron_game_ids)]['game_id'].unique()\n",
        "\n",
        "# no_anthony_game_ids\n",
        "anthony_data = df[df.apply(lambda x: 'Anthony Davis' in x.values[4:9] or 'Anthony Davis' in x.values[9:14], axis=1)]\n",
        "anthony_game_ids = anthony_data['game_id'].unique()\n",
        "no_anthony_game_ids = df[~df['game_id'].isin(anthony_game_ids)]['game_id'].unique()\n",
        "\n",
        "# Step 2: For Group 1, find the game IDs where Anthony Davis appears in the games where LeBron James does not appear\n",
        "group1_data = df[df['game_id'].isin(no_lebron_game_ids)]\n",
        "group1_data = group1_data[group1_data.apply(lambda x: 'Anthony Davis' in x.values[4:9] or 'Anthony Davis' in x.values[9:14], axis=1)]\n",
        "group1_data_id = group1_data['game_id'].unique()\n",
        "group1_data_final = df[df['game_id'].isin(group1_data_id)]\n",
        "\n",
        "# Step 3: For Group 2, find the game IDs where LeBron James appears in the games where Anthony Davis does not appear\n",
        "group2_data = df[df['game_id'].isin(no_anthony_game_ids)]\n",
        "group2_data = group2_data[group2_data.apply(lambda x: 'LeBron James' in x.values[4:9] or 'LeBron James' in x.values[9:14], axis=1)]\n",
        "group2_data_id = group2_data['game_id'].unique()\n",
        "group2_data_final = df[df['game_id'].isin(group2_data_id)]\n",
        "\n",
        "# Step 4: For Group 3, find the game IDs where both Anthony Davis and LeBron James appear\n",
        "group3_data = df[df.apply(lambda x: ('Anthony Davis' in x.values[4:9] and 'LeBron James' in x.values[4:9]) or ('Anthony Davis' in x.values[9:14] and 'LeBron James' in x.values[9:14]), axis=1)]\n",
        "group3_data_id = group3_data['game_id'].unique()\n",
        "group3_data_final = df[df['game_id'].isin(group3_data_id)]\n",
        "\n",
        "# Step 5: For Group 4, find the game IDs where neither Anthony Davis nor LeBron James appear\n",
        "group4_data_final = df[~df['game_id'].isin(group1_data_id) &\n",
        "                       ~df['game_id'].isin(group2_data_id) &\n",
        "                       ~df['game_id'].isin(group3_data_id)]\n"
      ]
    },
    {
      "cell_type": "code",
      "execution_count": 6,
      "id": "e581f62e-6909-4376-bf81-758c1dac84ab",
      "metadata": {
        "tags": [],
        "colab": {
          "base_uri": "https://localhost:8080/"
        },
        "id": "e581f62e-6909-4376-bf81-758c1dac84ab",
        "outputId": "9497b81b-d5a9-459f-81cf-3dbeeb21ae7c"
      },
      "outputs": [
        {
          "output_type": "stream",
          "name": "stdout",
          "text": [
            "Average Points for Each Group:\n",
            "Group 1: 105.66666666666667\n",
            "Group 2: 120.625\n",
            "Group 3: 112.7\n",
            "Group 4: 125.0\n"
          ]
        }
      ],
      "source": [
        "# Step 1: Calculate the sum of points for each game in each group\n",
        "group1_sum = group1_data_final.groupby('game_id')['points'].sum()\n",
        "group2_sum = group2_data_final.groupby('game_id')['points'].sum()\n",
        "group3_sum = group3_data_final.groupby('game_id')['points'].sum()\n",
        "group4_sum = group4_data_final.groupby('game_id')['points'].sum()\n",
        "\n",
        "# Step 2: Calculate the average points for each group\n",
        "group1_avg = group1_sum.mean()\n",
        "group2_avg = group2_sum.mean()\n",
        "group3_avg = group3_sum.mean()\n",
        "group4_avg = group4_sum.mean()\n",
        "\n",
        "# Print the average points for each group\n",
        "print(\"Average Points for Each Group:\")\n",
        "print(\"Group 1:\", group1_avg)\n",
        "print(\"Group 2:\", group2_avg)\n",
        "print(\"Group 3:\", group3_avg)\n",
        "print(\"Group 4:\", group4_avg)\n"
      ]
    },
    {
      "cell_type": "markdown",
      "source": [
        "Visualizing means"
      ],
      "metadata": {
        "id": "A9PJb-2Xi48q"
      },
      "id": "A9PJb-2Xi48q"
    },
    {
      "cell_type": "code",
      "source": [
        "cases = ['Only Anthony', 'Only LeBron', 'Together']\n",
        "data_points = [105.67, 120.625, 112.7]\n",
        "\n",
        "plt.bar(cases, data_points, color=['dodgerblue', 'gold', 'pink'])\n",
        "\n",
        "plt.xlabel('Scenario')\n",
        "plt.ylabel('Average of the total points scored in each game')\n",
        "plt.title('Average of the total points scored in each game in each scenario')\n",
        "\n",
        "plt.show()"
      ],
      "metadata": {
        "colab": {
          "base_uri": "https://localhost:8080/",
          "height": 472
        },
        "id": "1UxWtka9i6kk",
        "outputId": "4d012ef3-3c1b-48f3-e28f-b7bbae11e663"
      },
      "id": "1UxWtka9i6kk",
      "execution_count": 22,
      "outputs": [
        {
          "output_type": "display_data",
          "data": {
            "text/plain": [
              "<Figure size 640x480 with 1 Axes>"
            ],
            "image/png": "[encoded data removed]"
          },
          "metadata": {}
        }
      ]
    },
    {
      "cell_type": "markdown",
      "source": [
        "T-test to check difference between means"
      ],
      "metadata": {
        "id": "reA70lRVg9gu"
      },
      "id": "reA70lRVg9gu"
    },
    {
      "cell_type": "code",
      "source": [
        "from scipy.stats import ttest_ind"
      ],
      "metadata": {
        "id": "6Wm_t-0yhE7t"
      },
      "id": "6Wm_t-0yhE7t",
      "execution_count": 11,
      "outputs": []
    },
    {
      "cell_type": "code",
      "source": [
        "# Between only Anthony and only LeBron\n",
        "t_statistic, p_value = ttest_ind(group1_sum, group2_sum)\n",
        "print(\"T-statistic: \", t_statistic)\n",
        "print(\"p-value: \", p_value)\n",
        "\n",
        "# Interpret the results\n",
        "alpha = 0.05\n",
        "if p_value < alpha:\n",
        "  print(\"Reject the null hypothesis: There is a significant difference between the means.\")\n",
        "else:\n",
        "  print(\"Fail to reject the null hypothesis: There is no significant difference between the means.\")"
      ],
      "metadata": {
        "colab": {
          "base_uri": "https://localhost:8080/"
        },
        "id": "yx5bMaSPhF_c",
        "outputId": "c184da9d-4428-4f2e-d908-6092a841fd49"
      },
      "id": "yx5bMaSPhF_c",
      "execution_count": 13,
      "outputs": [
        {
          "output_type": "stream",
          "name": "stdout",
          "text": [
            "T-statistic:  -2.5446348998750916\n",
            "p-value:  0.03147054898564897\n",
            "Reject the null hypothesis: There is a significant difference between the means.\n"
          ]
        }
      ]
    },
    {
      "cell_type": "code",
      "source": [
        "# Between only Anthony and both\n",
        "t_statistic, p_value = ttest_ind(group1_sum, group3_sum)\n",
        "print(\"T-statistic: \", t_statistic)\n",
        "print(\"p-value: \", p_value)\n",
        "\n",
        "# Interpret the results\n",
        "alpha = 0.05\n",
        "if p_value < alpha:\n",
        "  print(\"Reject the null hypothesis: There is a significant difference between the means.\")\n",
        "else:\n",
        "  print(\"Fail to reject the null hypothesis: There is no significant difference between the means.\")"
      ],
      "metadata": {
        "colab": {
          "base_uri": "https://localhost:8080/"
        },
        "id": "mcjYB3Mdhtsj",
        "outputId": "8a148831-71ec-41aa-cf14-73f1cfdbe3e5"
      },
      "id": "mcjYB3Mdhtsj",
      "execution_count": 14,
      "outputs": [
        {
          "output_type": "stream",
          "name": "stdout",
          "text": [
            "T-statistic:  -1.0232586334231855\n",
            "p-value:  0.30923192663184546\n",
            "Fail to reject the null hypothesis: There is no significant difference between the means.\n"
          ]
        }
      ]
    },
    {
      "cell_type": "code",
      "source": [
        "# Between only LeBron and together\n",
        "t_statistic, p_value = ttest_ind(group2_sum, group3_sum)\n",
        "print(\"T-statistic: \", t_statistic)\n",
        "print(\"p-value: \", p_value)\n",
        "\n",
        "# Interpret the results\n",
        "alpha = 0.05\n",
        "if p_value < alpha:\n",
        "  print(\"Reject the null hypothesis: There is a significant difference between the means.\")\n",
        "else:\n",
        "  print(\"Fail to reject the null hypothesis: There is no significant difference between the means.\")"
      ],
      "metadata": {
        "colab": {
          "base_uri": "https://localhost:8080/"
        },
        "id": "hjg3ywxVh1DX",
        "outputId": "7b9a0d00-7c91-438f-bbba-329926278ffe"
      },
      "id": "hjg3ywxVh1DX",
      "execution_count": 15,
      "outputs": [
        {
          "output_type": "stream",
          "name": "stdout",
          "text": [
            "T-statistic:  1.8583505864747778\n",
            "p-value:  0.06654038746096211\n",
            "Fail to reject the null hypothesis: There is no significant difference between the means.\n"
          ]
        }
      ]
    },
    {
      "cell_type": "markdown",
      "source": [
        "Findings:\n",
        "When LeBron played by himself, the average total points in a match is higher than when they play together and when only Anthony played. However, our t-test result showed that only between the case when ‘only LeBron played’ and ‘both of them played’, there is a significant difference between the means of the two groups. In the other 2 cases, there is no significant difference between the means."
      ],
      "metadata": {
        "id": "avNFk2EBkTFV"
      },
      "id": "avNFk2EBkTFV"
    },
    {
      "cell_type": "markdown",
      "source": [
        "Insights:\n",
        "1. In the case where both LeBron and Anthony played the game, it is possible that the opponent plays so well, so both of the Star players need to be on stage to try to get higher points. However, since the opponent plays so well, it is harder to get higher points in the game, leading to the average points in 'Together' case being lower than the case when only LeBron played.\n",
        "2. Anthony Davis's impact on scoring appears to complement LeBron's, as their combined play does not significantly change the scoring average compared to when Anthony plays alone.\n",
        "3. LeBron does not play better than Anthony necessarily, but LeBron plays better himself compared to playing with Anthony. As a result, Lakers should consider having LeBron or LeBron and Anthony playing together in future matches.\n"
      ],
      "metadata": {
        "id": "FJzhCn7_kKvO"
      },
      "id": "FJzhCn7_kKvO"
    },
    {
      "cell_type": "markdown",
      "source": [
        "\n",
        "\n",
        "---\n",
        "\n"
      ],
      "metadata": {
        "id": "x9LyD5aikj3j"
      },
      "id": "x9LyD5aikj3j"
    },
    {
      "cell_type": "markdown",
      "source": [
        "## Part B"
      ],
      "metadata": {
        "id": "fqm7zOVZgdQK"
      },
      "id": "fqm7zOVZgdQK"
    },
    {
      "cell_type": "markdown",
      "source": [
        "We want to see if the star players make their teammates play better. Specifically, I used the corrlation between the points get from Anthony or LeBron assisting and the total points in that match."
      ],
      "metadata": {
        "id": "ex6G8UuUghO3"
      },
      "id": "ex6G8UuUghO3"
    },
    {
      "cell_type": "code",
      "execution_count": 7,
      "id": "f4eb3983-5170-4432-89e7-082641cd98f2",
      "metadata": {
        "tags": [],
        "colab": {
          "base_uri": "https://localhost:8080/"
        },
        "id": "f4eb3983-5170-4432-89e7-082641cd98f2",
        "outputId": "4656b9e9-2d58-4bb6-d590-3d9795260ec8"
      },
      "outputs": [
        {
          "output_type": "stream",
          "name": "stdout",
          "text": [
            "               total_points  assist_points\n",
            "game_id                                   \n",
            "'0021900659           100.0           11.0\n",
            "'0021900667           128.0           25.0\n",
            "'0021900684            91.0           20.0\n",
            "'0021900726           119.0           23.0\n",
            "'0021900736           129.0           28.0\n",
            "...                     ...            ...\n",
            "=\"0021900553\"         117.0           12.0\n",
            "=\"0021900572\"         129.0           18.0\n",
            "=\"0021900580\"         125.0            0.0\n",
            "=\"0021900597\"         128.0           17.0\n",
            "=\"0021900633\"         124.0           29.0\n",
            "\n",
            "[92 rows x 2 columns]\n"
          ]
        }
      ],
      "source": [
        "\n",
        "# Step 1: Filter the DataFrame for rows where the 'assist' column contains 'LeBron James'\n",
        "lebron_assist_data = df[df['assist'] == 'LeBron James']\n",
        "\n",
        "# Step 2: Group the data by 'game_id' and aggregate the 'points' column\n",
        "lebron_assist_points = lebron_assist_data.groupby('game_id')['points'].sum()\n",
        "\n",
        "# Step 3: Merge the total assist points with the total game points\n",
        "game_summary = df[['game_id', 'points']].groupby('game_id').sum()\n",
        "\n",
        "# Step 4: Merge the total assist points with the total game points on 'game_id'\n",
        "lebron_game_summary = pd.merge(game_summary, lebron_assist_points, on='game_id', how='left')\n",
        "\n",
        "# Rename the columns\n",
        "lebron_game_summary.rename(columns={'points_x': 'total_points', 'points_y': 'assist_points'}, inplace=True)\n",
        "\n",
        "# Step 5: Fill NaN values with 0 for games where LeBron had no assists\n",
        "lebron_game_summary['assist_points'] = lebron_game_summary['assist_points'].fillna(0)\n",
        "\n",
        "# Print the resulting DataFrame\n",
        "print(lebron_game_summary)\n",
        "\n"
      ]
    },
    {
      "cell_type": "code",
      "execution_count": 8,
      "id": "c20461fa-8257-44a6-95e0-69889ec8e9d6",
      "metadata": {
        "tags": [],
        "colab": {
          "base_uri": "https://localhost:8080/"
        },
        "id": "c20461fa-8257-44a6-95e0-69889ec8e9d6",
        "outputId": "746b282b-163a-4c57-a3ed-43754d1941fe"
      },
      "outputs": [
        {
          "output_type": "stream",
          "name": "stdout",
          "text": [
            "               total_points  assist_points\n",
            "game_id                                   \n",
            "'0021900659           100.0           12.0\n",
            "'0021900667           128.0            6.0\n",
            "'0021900684            91.0            4.0\n",
            "'0021900726           119.0           14.0\n",
            "'0021900736           129.0           17.0\n",
            "...                     ...            ...\n",
            "=\"0021900553\"         117.0           12.0\n",
            "=\"0021900572\"         129.0            0.0\n",
            "=\"0021900580\"         125.0            0.0\n",
            "=\"0021900597\"         128.0            0.0\n",
            "=\"0021900633\"         124.0            0.0\n",
            "\n",
            "[92 rows x 2 columns]\n"
          ]
        }
      ],
      "source": [
        "# Step 1: Filter the DataFrame for rows where the 'assist' column contains 'LeBron James'\n",
        "Anthony_assist_data = df[df['assist'] == 'Anthony Davis']\n",
        "\n",
        "# Step 2: Group the data by 'game_id' and aggregate the 'points' column\n",
        "Anthony_assist_points = Anthony_assist_data.groupby('game_id')['points'].sum()\n",
        "\n",
        "# Step 3: Merge the total assist points with the total game points\n",
        "game_summary = df[['game_id', 'points']].groupby('game_id').sum()\n",
        "\n",
        "# Step 4: Merge the total assist points with the total game points on 'game_id'\n",
        "Anthony_game_summary = pd.merge(game_summary, Anthony_assist_points, on='game_id', how='left')\n",
        "\n",
        "# Rename the columns\n",
        "Anthony_game_summary.rename(columns={'points_x': 'total_points', 'points_y': 'assist_points'}, inplace=True)\n",
        "\n",
        "# Step 5: Fill NaN values with 0 for games where LeBron had no assists\n",
        "Anthony_game_summary['assist_points'] = Anthony_game_summary['assist_points'].fillna(0)\n",
        "\n",
        "# Print the resulting DataFrame\n",
        "print(Anthony_game_summary)\n"
      ]
    },
    {
      "cell_type": "code",
      "execution_count": 9,
      "id": "95a2a67f-1f7d-4d16-a6c1-85d74ded4115",
      "metadata": {
        "tags": [],
        "colab": {
          "base_uri": "https://localhost:8080/"
        },
        "id": "95a2a67f-1f7d-4d16-a6c1-85d74ded4115",
        "outputId": "44238191-8f24-47e9-f98e-7b1fb402a173"
      },
      "outputs": [
        {
          "output_type": "execute_result",
          "data": {
            "text/plain": [
              "0.2681136372068255"
            ]
          },
          "metadata": {},
          "execution_count": 9
        }
      ],
      "source": [
        "#correlation\n",
        "#lebron\n",
        "lebron_correlation = lebron_game_summary['total_points'].corr(lebron_game_summary['assist_points'])\n",
        "lebron_correlation"
      ]
    },
    {
      "cell_type": "code",
      "execution_count": 10,
      "id": "12e5d473-1cc4-4c9f-bdb9-9aa49d47171f",
      "metadata": {
        "tags": [],
        "colab": {
          "base_uri": "https://localhost:8080/"
        },
        "id": "12e5d473-1cc4-4c9f-bdb9-9aa49d47171f",
        "outputId": "f41c3a33-eddd-445e-9d4d-e250e22f744b"
      },
      "outputs": [
        {
          "output_type": "execute_result",
          "data": {
            "text/plain": [
              "-0.0007089982135406187"
            ]
          },
          "metadata": {},
          "execution_count": 10
        }
      ],
      "source": [
        "#anthony\n",
        "Anthony_correlation = Anthony_game_summary['total_points'].corr(Anthony_game_summary['assist_points'])\n",
        "Anthony_correlation"
      ]
    },
    {
      "cell_type": "code",
      "execution_count": 16,
      "id": "3158efed-127b-4865-a24f-e0811ca00cb5",
      "metadata": {
        "colab": {
          "base_uri": "https://localhost:8080/",
          "height": 468
        },
        "id": "3158efed-127b-4865-a24f-e0811ca00cb5",
        "outputId": "6035a3d3-a9a6-4349-d7df-228166913748"
      },
      "outputs": [
        {
          "output_type": "execute_result",
          "data": {
            "text/plain": [
              "<Axes: xlabel='assist_points', ylabel='total_points'>"
            ]
          },
          "metadata": {},
          "execution_count": 16
        },
        {
          "output_type": "display_data",
          "data": {
            "text/plain": [
              "<Figure size 640x480 with 1 Axes>"
            ],
            "image/png": "[encoded data removed]"
          },
          "metadata": {}
        }
      ],
      "source": [
        "sns.regplot(data = lebron_game_summary,\n",
        "                x = 'assist_points',\n",
        "                y = 'total_points')"
      ]
    },
    {
      "cell_type": "code",
      "source": [
        "sns.regplot(data = Anthony_game_summary,\n",
        "                x = 'assist_points',\n",
        "                y = 'total_points')"
      ],
      "metadata": {
        "colab": {
          "base_uri": "https://localhost:8080/",
          "height": 468
        },
        "id": "CBA7IGkeidvY",
        "outputId": "9a964220-cad7-4718-e04a-ce3e256320a6"
      },
      "id": "CBA7IGkeidvY",
      "execution_count": 17,
      "outputs": [
        {
          "output_type": "execute_result",
          "data": {
            "text/plain": [
              "<Axes: xlabel='assist_points', ylabel='total_points'>"
            ]
          },
          "metadata": {},
          "execution_count": 17
        },
        {
          "output_type": "display_data",
          "data": {
            "text/plain": [
              "<Figure size 640x480 with 1 Axes>"
            ],
            "image/png": "[encoded data removed]"
          },
          "metadata": {}
        }
      ]
    },
    {
      "cell_type": "markdown",
      "source": [
        "Findings:\n",
        "1. The correlation between the points scored with the assistance from LeBron and the total points get in the match is 0.26, which is a positive correlation. It seems that the more points the team get from LeBron assisting the action, the more total points the team will get in the game. Thus, LeBron makes the team better off.\n",
        "2. However, the correlation for Anthony assisting is negative but almost 0, which means there's no clear correlation between the points scored with assistance from Anthony and the total points get in the match. As a result, Anthony's assistance doesn't make the team better."
      ],
      "metadata": {
        "id": "lRTTuYe5kqBi"
      },
      "id": "lRTTuYe5kqBi"
    }
  ],
  "metadata": {
    "kernelspec": {
      "display_name": "Python 3 (ipykernel)",
      "language": "python",
      "name": "python3"
    },
    "language_info": {
      "codemirror_mode": {
        "name": "ipython",
        "version": 3
      },
      "file_extension": ".py",
      "mimetype": "text/x-python",
      "name": "python",
      "nbconvert_exporter": "python",
      "pygments_lexer": "ipython3",
      "version": "3.11.5"
    },
    "colab": {
      "provenance": []
    }
  },
  "nbformat": 4,
  "nbformat_minor": 5
}
